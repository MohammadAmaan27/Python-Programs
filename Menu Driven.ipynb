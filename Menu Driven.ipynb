{
 "cells": [
  {
   "cell_type": "code",
   "execution_count": null,
   "id": "c58e7d2a",
   "metadata": {},
   "outputs": [],
   "source": [
    "x=int(input(\"Enter a Number:\"))\n",
    "if x%2==0:\n",
    "    print(x,\" is an Even Number\")\n",
    "else:\n",
    "    print(x,\" is an Odd Number\")"
   ]
  },
  {
   "cell_type": "code",
   "execution_count": null,
   "id": "43e4bbf8",
   "metadata": {},
   "outputs": [],
   "source": [
    "a = int(input(\" Enter the number : \"))     \n",
    "print(\"Multiplication Table of : \")  \n",
    "for i in range(1,10):    \n",
    "   print(a,'x',i,'=',a*i)"
   ]
  },
  {
   "cell_type": "code",
   "execution_count": null,
   "id": "e753bad0",
   "metadata": {},
   "outputs": [],
   "source": [
    "def factorial(n):\n",
    "    return 1 if (n==1 or n==0) else n * factorial(n - 1);\n",
    "x = 6;\n",
    "print(\"Factorial of\",x,\"is\",factorial(x))"
   ]
  },
  {
   "cell_type": "code",
   "execution_count": null,
   "id": "21721ab7",
   "metadata": {},
   "outputs": [],
   "source": [
    "#Number is Prime or Not prime\n",
    "\n",
    "y = int(input(\"Enter any number: \"))\n",
    "\n",
    "if y> 1:\n",
    "    for i in range(2, y):\n",
    "        if (y % i) == 0:\n",
    "            print(y, \"is not a prime number\")\n",
    "            break\n",
    "    else:\n",
    "        print(y, \"is a prime number\")\n",
    "else:\n",
    "    print(y, \"is not a prime number\")"
   ]
  },
  {
   "cell_type": "code",
   "execution_count": null,
   "id": "b7500e85",
   "metadata": {},
   "outputs": [],
   "source": [
    "#Palindrome\n",
    "x=int(input(\"Enter any number:\"))\n",
    "temp=x\n",
    "y=0\n",
    "while(x>0):\n",
    "    z=x%10\n",
    "    y=y*10+z\n",
    "    x=x//10\n",
    "if(temp==y):\n",
    "    print(\"This number is a palindrome.\")\n",
    "else:\n",
    "    print(\"This number is not a palindrome.\")"
   ]
  },
  {
   "cell_type": "code",
   "execution_count": null,
   "id": "3a914f55",
   "metadata": {},
   "outputs": [],
   "source": [
    "#Armstrong Number\n",
    "num = int(input(\"Enter a number: \"))\n",
    "sum = 0\n",
    "temp = num\n",
    "while temp > 0:\n",
    "   digit = temp % 10\n",
    "   sum += digit ** 3\n",
    "   temp //= 10\n",
    "\n",
    "if num == sum:\n",
    "   print(num,\"is an Armstrong number\")\n",
    "else:\n",
    "   print(num,\"is not an Armstrong number\")"
   ]
  },
  {
   "cell_type": "code",
   "execution_count": null,
   "id": "aaf80eb6",
   "metadata": {
    "scrolled": true
   },
   "outputs": [],
   "source": [
    "#Fibonacci Series\n",
    "nterms = int(input(\"How many terms? \"))\n",
    "n1, n2 = 0, 1\n",
    "count = 0\n",
    "if nterms <= 0:\n",
    "   print(\"Please enter a positive integer\")\n",
    "elif nterms == 1:\n",
    "   print(\"Fibonacci sequence upto\",nterms,\":\")\n",
    "   print(n1)\n",
    "else:\n",
    "   print(\"Fibonacci sequence:\")\n",
    "   while count < nterms:\n",
    "       print(n1)\n",
    "       nth = n1 + n2\n",
    "       n1 = n2\n",
    "       n2 = nth\n",
    "       count += 1"
   ]
  },
  {
   "cell_type": "code",
   "execution_count": null,
   "id": "bed5cc6a",
   "metadata": {
    "scrolled": false
   },
   "outputs": [],
   "source": [
    "print(\"Enter Quantity: \")\n",
    "qty = float(input())\n",
    "print(\"Enter Rate: \")\n",
    "rate = float(input())\n",
    "if (qty>100) :\n",
    "    dis = 10\n",
    "expense = (qty) - (qty*dis / 100)\n",
    "print(\"\\nTotal Expenses = Rs. \", expense)"
   ]
  },
  {
   "cell_type": "code",
   "execution_count": null,
   "id": "1c77ffa4",
   "metadata": {},
   "outputs": [],
   "source": [
    "#Calculator\n",
    "\n",
    "x = float(input(\"Enter first number: \"))\n",
    "y = float(input(\"Enter second number: \"))\n",
    "\n",
    "select = input(\"Enter The Operation( +,-,*,/ ): \")\n",
    "\n",
    "if select == \"+\":\n",
    "    print(x, \"+\", y, \"=\", x+y)\n",
    "\n",
    "elif select == \"-\":\n",
    "    print(x, \"-\", y, \"=\", x-y)\n",
    "\n",
    "elif select == \"*\":\n",
    "    print(x, \"*\", y, \"=\", x*y)\n",
    "\n",
    "elif select == \"/\":\n",
    "    print(x, \"/\", y, \"=\", x/y)\n",
    "\n",
    "else:\n",
    "    print(\"Invalid\")"
   ]
  },
  {
   "cell_type": "code",
   "execution_count": null,
   "id": "d89aa652",
   "metadata": {},
   "outputs": [],
   "source": []
  }
 ],
 "metadata": {
  "kernelspec": {
   "display_name": "Python 3",
   "language": "python",
   "name": "python3"
  },
  "language_info": {
   "codemirror_mode": {
    "name": "ipython",
    "version": 3
   },
   "file_extension": ".py",
   "mimetype": "text/x-python",
   "name": "python",
   "nbconvert_exporter": "python",
   "pygments_lexer": "ipython3",
   "version": "3.8.8"
  }
 },
 "nbformat": 4,
 "nbformat_minor": 5
}
