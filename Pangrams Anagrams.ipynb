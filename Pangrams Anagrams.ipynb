{
 "cells": [
  {
   "cell_type": "code",
   "execution_count": 2,
   "id": "29a37c2f",
   "metadata": {},
   "outputs": [
    {
     "name": "stdout",
     "output_type": "stream",
     "text": [
      "Mary\n",
      "Army\n",
      "Yes, They are Anagrams"
     ]
    }
   ],
   "source": [
    "#Anagrams\n",
    "\n",
    "name=list(input())\n",
    "name2=list(input())\n",
    "a=\"\"\n",
    "b=\"\"\n",
    "for i in name:\n",
    "  if i.isupper():\n",
    "    a+=i.lower()\n",
    "  elif i.islower():\n",
    "    a+=i\n",
    "for i in name2:\n",
    "  if i.isupper():\n",
    "    b+=i.lower()\n",
    "  elif i.islower():\n",
    "    b+=i\n",
    "if sorted(a)==sorted(b):\n",
    "  print(\"Yes, They are Anagrams\",end=\"\")\n",
    "else: \n",
    "  print(\"No, They are not Anagrams\",end=\"\")"
   ]
  },
  {
   "cell_type": "code",
   "execution_count": 3,
   "id": "3794b3bd",
   "metadata": {},
   "outputs": [
    {
     "name": "stdout",
     "output_type": "stream",
     "text": [
      "Pack my box with five dozen liquor jugs\n",
      "Yes,It is a Pangram"
     ]
    }
   ],
   "source": [
    "#Pangrams\n",
    "\n",
    "name=list(input())\n",
    "a=\"\"\n",
    "for i in name:\n",
    "  if i.isupper():\n",
    "    a+=i.lower()\n",
    "  elif i.islower():\n",
    "    a+=i\n",
    "if len(set(a))==26:\n",
    "  print(\"Yes,It is a Pangram\",end=\"\")\n",
    "else:\n",
    "  print(\"No, It is not a Pangram\",end=\"\")\n",
    "\n"
   ]
  },
  {
   "cell_type": "code",
   "execution_count": 1,
   "id": "2b4592cc",
   "metadata": {},
   "outputs": [
    {
     "name": "stdout",
     "output_type": "stream",
     "text": [
      "abdefgbadklm\n",
      "dab bad elmf kg\n",
      "Yes"
     ]
    }
   ],
   "source": [
    "#Decomposition of String\n",
    "\n",
    "s=input()\n",
    "a=input().split()\n",
    "b=\"\"\n",
    "\n",
    "for i in a:\n",
    "  b+=i\n",
    "\n",
    "if(set(s) == set(b) and len(s) == len(b)):\n",
    "  print(\"Yes\", end=\"\")\n",
    "else:\n",
    "  print(\"No\", end=\"\")"
   ]
  },
  {
   "cell_type": "code",
   "execution_count": null,
   "id": "678e52ad",
   "metadata": {},
   "outputs": [],
   "source": []
  }
 ],
 "metadata": {
  "kernelspec": {
   "display_name": "Python 3",
   "language": "python",
   "name": "python3"
  },
  "language_info": {
   "codemirror_mode": {
    "name": "ipython",
    "version": 3
   },
   "file_extension": ".py",
   "mimetype": "text/x-python",
   "name": "python",
   "nbconvert_exporter": "python",
   "pygments_lexer": "ipython3",
   "version": "3.8.8"
  }
 },
 "nbformat": 4,
 "nbformat_minor": 5
}
