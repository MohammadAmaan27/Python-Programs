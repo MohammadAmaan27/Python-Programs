{
 "cells": [
  {
   "cell_type": "code",
   "execution_count": null,
   "id": "d929b4d4",
   "metadata": {
    "scrolled": true
   },
   "outputs": [],
   "source": [
    "#Sum of Elements in a List\n",
    "list = [11, 5, 17, 69, 23]\n",
    "total = sum(list)\n",
    "print(\"Sum of all elements in given list: \", total)"
   ]
  },
  {
   "cell_type": "code",
   "execution_count": null,
   "id": "72b5f593",
   "metadata": {
    "scrolled": true
   },
   "outputs": [],
   "source": [
    "#Largest Element in a List\n",
    "list = [10, 20, 4, 45, 9]\n",
    "print(\"Largest element is:\", max(list))"
   ]
  },
  {
   "cell_type": "code",
   "execution_count": null,
   "id": "261165e9",
   "metadata": {
    "scrolled": true
   },
   "outputs": [],
   "source": [
    "#Smallest Element in a List\n",
    "list = [10, 20, 4, 45, 9]\n",
    "print(\"Smallest element is:\", min(list))"
   ]
  },
  {
   "cell_type": "code",
   "execution_count": null,
   "id": "2b310819",
   "metadata": {
    "scrolled": true
   },
   "outputs": [],
   "source": [
    "import math\n",
    "# Multiplication of Elements\n",
    "list = [10, 25, 3]\n",
    "result = math.prod(list)\n",
    "print(result)"
   ]
  },
  {
   "cell_type": "code",
   "execution_count": null,
   "id": "c9e41774",
   "metadata": {},
   "outputs": [],
   "source": [
    "test_list = [4, 5, 6, 3, 9]\n",
    "insert_list = [6, 9]\n",
    "pos = 2\n",
    "  \n",
    "print (\"The original list is : \" + str(test_list))\n",
    "print (\"The list to be inserted is : \" + str(insert_list))\n",
    "\n",
    "for i in range(len(insert_list)):\n",
    "    test_list.insert(i + pos, insert_list[i])\n",
    "  \n",
    "print (\"The list after insertion is : \" +  str(test_list))"
   ]
  },
  {
   "cell_type": "code",
   "execution_count": null,
   "id": "3191a3d1",
   "metadata": {},
   "outputs": [],
   "source": [
    "# Python3 program to swap first and last element of a list\n",
    " \n",
    "def swapList(newList):\n",
    "    size = len(newList)\n",
    "     \n",
    "    temp = newList[0]\n",
    "    newList[0] = newList[size - 1]\n",
    "    newList[size - 1] = temp\n",
    "     \n",
    "    return newList\n",
    "    \n",
    "newList = [69, 35, 9, 56, 984]\n",
    " \n",
    "print(swapList(newList))"
   ]
  },
  {
   "cell_type": "code",
   "execution_count": null,
   "id": "a8ca2978",
   "metadata": {},
   "outputs": [],
   "source": [
    "# Python program to print Even Numbers in a List\n",
    "  \n",
    "list1 = [10, 21, 4, 45, 66, 93]\n",
    "  \n",
    "for num in list1:\n",
    "      \n",
    "    if num % 2 == 0:\n",
    "       print(num, end = \" \")"
   ]
  },
  {
   "cell_type": "code",
   "execution_count": null,
   "id": "1dbae3b0",
   "metadata": {},
   "outputs": [],
   "source": [
    "# the removal of all occurrences of a given item using list comprehension\n",
    "\n",
    "def remove_items(test_list, item):\n",
    "\n",
    " res = [i for i in test_list if i != item]\n",
    "\n",
    " return res\n",
    "\n",
    "if __name__==\"__main__\":\n",
    "\n",
    " test_list = [1, 3, 4, 6, 5, 1]\n",
    "\n",
    "item = 1\n",
    "\n",
    "print (\"The original list is : \" + str(test_list))\n",
    "\n",
    "res = remove_items(test_list, item)\n",
    "\n",
    "print (\"The list after performing the remove operation is : \" + str(res))"
   ]
  },
  {
   "cell_type": "code",
   "execution_count": null,
   "id": "c4b3b64d",
   "metadata": {},
   "outputs": [],
   "source": [
    "# Program to check unique elements in a list\n",
    "input_list = [1, 3, 2, 5, 6, 4, 4, 8, 6]\n",
    "\n",
    "l1 = []\n",
    "\n",
    "count = 0\n",
    "\n",
    "for item in input_list:\n",
    "\tif item not in l1:\n",
    "\t\tcount += 1\n",
    "\t\tl1.append(item)\n",
    "\n",
    "print(\"No of unique items are:\", count)\n"
   ]
  },
  {
   "cell_type": "code",
   "execution_count": null,
   "id": "108546dd",
   "metadata": {},
   "outputs": [],
   "source": [
    "# Python Program to Sort List in Ascending Order\n",
    "\n",
    "NumList = []\n",
    "\n",
    "Number = int(input(\"Please enter the Total Number of List Elements: \"))\n",
    "for i in range(1, Number + 1):\n",
    "    value = int(input(\"Please enter the Value of %d Element : \" %i))\n",
    "    NumList.append(value)\n",
    "\n",
    "for i in range (Number):\n",
    "    for j in range(i + 1, Number):\n",
    "        if(NumList[i] > NumList[j]):\n",
    "            temp = NumList[i]\n",
    "            NumList[i] = NumList[j]\n",
    "            NumList[j] = temp\n",
    "\n",
    "print(\"Element After Sorting List in Ascending Order is : \", NumList)"
   ]
  },
  {
   "cell_type": "code",
   "execution_count": null,
   "id": "69a5a0c9",
   "metadata": {},
   "outputs": [],
   "source": []
  }
 ],
 "metadata": {
  "kernelspec": {
   "display_name": "Python 3",
   "language": "python",
   "name": "python3"
  },
  "language_info": {
   "codemirror_mode": {
    "name": "ipython",
    "version": 3
   },
   "file_extension": ".py",
   "mimetype": "text/x-python",
   "name": "python",
   "nbconvert_exporter": "python",
   "pygments_lexer": "ipython3",
   "version": "3.8.8"
  }
 },
 "nbformat": 4,
 "nbformat_minor": 5
}
