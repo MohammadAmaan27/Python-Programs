{
 "cells": [
  {
   "cell_type": "code",
   "execution_count": null,
   "id": "1795e854",
   "metadata": {},
   "outputs": [],
   "source": [
    "#DictionarySort(Ascending & Descending)\n",
    "import operator\n",
    "d = {1: 5, 3: 8, 4: 1, 2: 3, 12: 0}\n",
    "s= sorted(d.items(), key=operator.itemgetter(1))\n",
    "print('ascending order : ',s)\n",
    "s1= dict( sorted(d.items(), key=operator.itemgetter(1),reverse=True))\n",
    "print('descending order : ',s1)"
   ]
  },
  {
   "cell_type": "code",
   "execution_count": null,
   "id": "362e373a",
   "metadata": {},
   "outputs": [],
   "source": [
    "# Python program to multiply all numbers in a list\n",
    "\n",
    "# Getting list from user\n",
    "myList = []\n",
    "length = int(input(\"Enter number of elements: \"))\n",
    "for i in range(0, length):\n",
    "    value = int(input())\n",
    "    myList.append(value)\n",
    "\n",
    "# multiplying all numbers of a list\n",
    "productVal = 1\n",
    "for i in myList:\n",
    "    productVal *= i\n",
    "\n",
    "# Printing the values \n",
    "print(\"List : \", myList)\n",
    "print(\"Product of all values = \", productVal)"
   ]
  },
  {
   "cell_type": "code",
   "execution_count": null,
   "id": "d63776b9",
   "metadata": {},
   "outputs": [],
   "source": [
    "#Function to check whether a number falls in a given range\n",
    "\n",
    "r1,r2= list(map(int, input('Enter Range of Numbers: ').split()))\n",
    "num = int(input('Enter a Number: '))\n",
    "\n",
    "if num >= r1 and num <= r2:\n",
    "    print('Yes, The number falls in the given range')\n",
    "else:\n",
    "    print('No, The Number dont falls in the given range')"
   ]
  },
  {
   "cell_type": "code",
   "execution_count": null,
   "id": "c3626697",
   "metadata": {},
   "outputs": [],
   "source": [
    "#Upper Case & Lower Case\n",
    "\n",
    "text = input('Enter the string: ')\n",
    "u = l = 0\n",
    "for x in text:\n",
    "    if x>='a' and x<='z':\n",
    "        l+=1\n",
    "    elif x>='A' and x<='Z':\n",
    "        u+=1\n",
    "\n",
    "print(\"No. of upper case letters : \",u)\n",
    "print(\"No. of lower case letters : \",l)"
   ]
  },
  {
   "cell_type": "code",
   "execution_count": null,
   "id": "1df5eebb",
   "metadata": {
    "scrolled": true
   },
   "outputs": [],
   "source": [
    "mat =[]\n",
    "print('Enter a 4x4 Matrix: ')\n",
    "\n",
    "for i in range(4):\n",
    "    mat.append([int(x) for x in input().split()])\n",
    "    \n",
    "for i in range(4):\n",
    "    if i%2==0:\n",
    "        for j in range(3,-1,-1):\n",
    "            print(mat[i][j],end='')\n",
    "    else:\n",
    "        for j in range(4):\n",
    "            print(mat[i][j],end='')"
   ]
  }
 ],
 "metadata": {
  "kernelspec": {
   "display_name": "Python 3",
   "language": "python",
   "name": "python3"
  },
  "language_info": {
   "codemirror_mode": {
    "name": "ipython",
    "version": 3
   },
   "file_extension": ".py",
   "mimetype": "text/x-python",
   "name": "python",
   "nbconvert_exporter": "python",
   "pygments_lexer": "ipython3",
   "version": "3.8.8"
  }
 },
 "nbformat": 4,
 "nbformat_minor": 5
}
